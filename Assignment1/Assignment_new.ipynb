{
 "cells": [
  {
   "cell_type": "code",
   "execution_count": 5,
   "metadata": {},
   "outputs": [
    {
     "name": "stdout",
     "output_type": "stream",
     "text": [
      "olleH\n"
     ]
    }
   ],
   "source": [
    "#1. Write a code to reverse a string\n",
    "str = \"Hello\"\n",
    "print(str[::-1])"
   ]
  },
  {
   "cell_type": "code",
   "execution_count": 11,
   "metadata": {},
   "outputs": [
    {
     "name": "stdout",
     "output_type": "stream",
     "text": [
      "3\n"
     ]
    }
   ],
   "source": [
    "#2. Write a code to count the number of vowels in a string\n",
    "str = \"Hello World\"\n",
    "vowels = 'aeiouAEIOU'\n",
    "strChars = [char for char in str if char in vowels]\n",
    "print(len(strChars))"
   ]
  },
  {
   "cell_type": "code",
   "execution_count": 13,
   "metadata": {},
   "outputs": [
    {
     "name": "stdout",
     "output_type": "stream",
     "text": [
      "Not a palindrome\n"
     ]
    }
   ],
   "source": [
    "#3. Write a code to check if a given string is a palindrome or not\n",
    "str = \"xox\"\n",
    "if(str == str[::-1]):\n",
    "    print(\"given string a palindrome\")\n",
    "else:\n",
    "    print(\"Not a palindrome\")"
   ]
  },
  {
   "cell_type": "code",
   "execution_count": 14,
   "metadata": {},
   "outputs": [
    {
     "name": "stdout",
     "output_type": "stream",
     "text": [
      "['e', 'i', 'l', 'n', 's', 't']\n",
      "['e', 'i', 'l', 'n', 's', 't']\n"
     ]
    }
   ],
   "source": [
    "#4.  Write a code to check if two given strings are anagrams of each other\n",
    "str1 = \"silent\"\n",
    "str2 = \"listen\"\n",
    "if (sorted(str1) == sorted(str2)):\n",
    "    print(\"strings are anagrams\")\n",
    "else:\n",
    "    print(\"not anagrams\")\n"
   ]
  },
  {
   "cell_type": "code",
   "execution_count": 18,
   "metadata": {},
   "outputs": [
    {
     "name": "stdout",
     "output_type": "stream",
     "text": [
      "2\n"
     ]
    }
   ],
   "source": [
    "#5. Write a code to find all occurrences of a given substring within another string\n",
    "str1 = \"Hello Tin Tin !\"\n",
    "str2 = \"Tin\"\n",
    "\n",
    "print(str1.count(str2))"
   ]
  },
  {
   "cell_type": "code",
   "execution_count": 24,
   "metadata": {},
   "outputs": [
    {
     "name": "stdout",
     "output_type": "stream",
     "text": [
      "a3b4c5\n"
     ]
    }
   ],
   "source": [
    "#6. Write a code to perform basic string compression using the counts of repeated characters\n",
    "str1 = \"aaabbbbccccc\"\n",
    "result = \"\"\n",
    "count = 1\n",
    "for i in range(1,len(str1)):\n",
    "    if str1[i] == str1[i-1]:\n",
    "        count += 1\n",
    "    else:\n",
    "        result = result + str1[i-1]\n",
    "        if count > 1:\n",
    "            result += f\"{count}\"\n",
    "        count = 1\n",
    "result = result + str1[-1]\n",
    "if count > 1:\n",
    "    result += f\"{count}\"\n",
    "\n",
    "print (result)\n",
    "\n"
   ]
  },
  {
   "cell_type": "code",
   "execution_count": 28,
   "metadata": {},
   "outputs": [
    {
     "name": "stdout",
     "output_type": "stream",
     "text": [
      "string has all unique characters\n"
     ]
    }
   ],
   "source": [
    "#7. Write a code to determine if a string has all unique characters\n",
    "inputStr = \"Help\"\n",
    "if(len(set(inputStr))==len(inputStr)):\n",
    "    print(\"string has all unique characters\")\n",
    "else:\n",
    "    print(\"String has duplicate characters\")"
   ]
  },
  {
   "cell_type": "code",
   "execution_count": 32,
   "metadata": {},
   "outputs": [
    {
     "name": "stdout",
     "output_type": "stream",
     "text": [
      "RAM SINGH\n",
      "ram singh\n"
     ]
    }
   ],
   "source": [
    "#8 Write a code to convert a given string to uppercase or lowercase\n",
    "inputStr = \"Ram Singh\"\n",
    "print(inputStr.upper())\n",
    "print(inputStr.lower())"
   ]
  },
  {
   "cell_type": "code",
   "execution_count": 34,
   "metadata": {},
   "outputs": [
    {
     "name": "stdout",
     "output_type": "stream",
     "text": [
      "8\n"
     ]
    }
   ],
   "source": [
    "#9 Write a code to count the number of words in a string\n",
    "inputStr = \"My name is Ram Singh Lal Singh Chauhan\"\n",
    "print(len(inputStr.split(\" \")))"
   ]
  },
  {
   "cell_type": "code",
   "execution_count": 45,
   "metadata": {},
   "outputs": [
    {
     "name": "stdout",
     "output_type": "stream",
     "text": [
      "Hello World\n"
     ]
    }
   ],
   "source": [
    "#10 Write a code to concatenate two strings without using the + operator\n",
    "str1 = \"Hello\"\n",
    "str2 = \"World\"\n",
    "\n",
    "print(\" \".join([str1,str2]))"
   ]
  },
  {
   "cell_type": "code",
   "execution_count": 53,
   "metadata": {},
   "outputs": [
    {
     "name": "stdout",
     "output_type": "stream",
     "text": [
      "['b', 'c', 'd', 'e']\n"
     ]
    }
   ],
   "source": [
    "#11 Write a code to remove all occurrences of a specific element from a list\n",
    "inputList = [\"a\",\"b\",\"c\",\"a\",\"d\",\"e\"]\n",
    "specificElement = \"a\"\n",
    "newList = [i for i in inputList if(i != specificElement)]\n",
    "print(newList)"
   ]
  },
  {
   "cell_type": "code",
   "execution_count": 55,
   "metadata": {},
   "outputs": [
    {
     "name": "stdout",
     "output_type": "stream",
     "text": [
      "33\n"
     ]
    }
   ],
   "source": [
    "#12  Implement a code to find the second largest number in a given list of integers\n",
    "inputList = [10,30,25,33,55,7]\n",
    "sortedList = sorted(inputList)\n",
    "print(sortedList[-2])"
   ]
  },
  {
   "cell_type": "code",
   "execution_count": 66,
   "metadata": {},
   "outputs": [
    {
     "name": "stdout",
     "output_type": "stream",
     "text": [
      "{10: 2, 20: 1, 30: 2, 40: 3, 50: 1}\n"
     ]
    }
   ],
   "source": [
    "#13 Create a code to count the occurrences of each element in a list and return a dictionary with elements as\n",
    "#keys and their counts as values\n",
    "inputList = [10,20,10,30,30,40,40,40,50]\n",
    "count = 1\n",
    "dict = {}\n",
    "for item in inputList:\n",
    "  if(item in dict):\n",
    "    dict[item] +=1\n",
    "  else:\n",
    "    dict[item] = 1\n",
    "\n",
    "print(dict)"
   ]
  },
  {
   "cell_type": "code",
   "execution_count": 74,
   "metadata": {},
   "outputs": [
    {
     "name": "stdout",
     "output_type": "stream",
     "text": [
      "[30, 9, 7, 5, 30, 20, 10]\n",
      "[30, 9, 7, 5, 30, 20, 10]\n"
     ]
    }
   ],
   "source": [
    "#14 Write a code to reverse a list in-place without using any built-in reverse functions\n",
    "input_list = [10, 20, 30, 5,7,9,30]\n",
    "#way 1\n",
    "print(input_list[::-1])\n",
    "\n",
    "#way 2\n",
    "reversed_list = [input_list[i] for i in range((len(input_list)-1),-1,-1)]\n",
    "\n",
    "print(reversed_list)\n"
   ]
  },
  {
   "cell_type": "code",
   "execution_count": 80,
   "metadata": {},
   "outputs": [
    {
     "name": "stdout",
     "output_type": "stream",
     "text": [
      "[13, 15, 17, 18, 11]\n"
     ]
    }
   ],
   "source": [
    "#15 Implement a code to find and remove duplicates from a list while preserving the original order of elements\n",
    "input_list = [13,15,17,18,17,11,13,18]\n",
    "varset = set()\n",
    "resultList = []\n",
    "for item in input_list:\n",
    "    if(item not in varset):\n",
    "        resultList.append(item)\n",
    "        varset.add(item)\n",
    "\n",
    "print(resultList)\n",
    "   \n",
    "\n",
    "\n"
   ]
  },
  {
   "cell_type": "code",
   "execution_count": 83,
   "metadata": {},
   "outputs": [
    {
     "name": "stdout",
     "output_type": "stream",
     "text": [
      "list is not sorted\n"
     ]
    }
   ],
   "source": [
    "#16 Create a code to check if a given list is sorted (either in ascending or descending order) or not\n",
    "input_list= [13,15,17,18,17,11,13,18]\n",
    "sortedList = sorted(input_list)\n",
    "if(input_list == sortedList):\n",
    "    print(\"list is sorted\")\n",
    "else:\n",
    "    print(\"list is not sorted\")"
   ]
  },
  {
   "cell_type": "code",
   "execution_count": 89,
   "metadata": {},
   "outputs": [
    {
     "name": "stdout",
     "output_type": "stream",
     "text": [
      "[1, 2, 3, 4, 5, 6, 7, 8, 9, 10]\n"
     ]
    }
   ],
   "source": [
    "#17 Write a code to merge two sorted lists into a single sorted list\n",
    "sorted_list1 = [1,3,5,7,9]\n",
    "sorted_list2 = [2,4,6,8,10]\n",
    "single_sortedList = sorted(sorted_list1+sorted_list2)\n",
    "print(single_sortedList)"
   ]
  },
  {
   "cell_type": "code",
   "execution_count": 90,
   "metadata": {},
   "outputs": [
    {
     "name": "stdout",
     "output_type": "stream",
     "text": [
      "[3, 4, 5]\n"
     ]
    }
   ],
   "source": [
    "#18 Implement a code to find the intersection of two given lists\n",
    "input_list1 = [1,2,3,4,5]\n",
    "input_list2 = [3,4,5,6,7]\n",
    "\n",
    "intersection_list = [item for item in input_list1 if item in input_list2]\n",
    "print(intersection_list)"
   ]
  },
  {
   "cell_type": "code",
   "execution_count": 3,
   "metadata": {},
   "outputs": [
    {
     "name": "stdout",
     "output_type": "stream",
     "text": [
      "[1, 2, 3, 4, 5, 6, 7, 8, 9, 10]\n"
     ]
    }
   ],
   "source": [
    "#19 Create a code to find the union of two lists without duplicates\n",
    "input_list1 = [1,2,3,4,5,6,7]\n",
    "input_list2 = [6,7,8,9,10]\n",
    "\n",
    "union_list = list(set(input_list1+input_list2))\n",
    "\n",
    "print(union_list)\n"
   ]
  },
  {
   "cell_type": "code",
   "execution_count": 11,
   "metadata": {},
   "outputs": [
    {
     "name": "stdout",
     "output_type": "stream",
     "text": [
      "[7, 3, 2, 6, 5, 1, 4]\n"
     ]
    }
   ],
   "source": [
    "#20 Write a code to shuffle a given list randomly without using any built-in shuffle functions\n",
    "import random\n",
    "input_list = [1,2,3,4,5,6,7]\n",
    "\n",
    "for i in range(len(input_list)-1,0, -1):\n",
    "    j = random.randint(0,i)\n",
    "    input_list[i],input_list[j] = input_list[j],input_list[i]\n",
    "\n",
    "print(input_list)"
   ]
  },
  {
   "cell_type": "code",
   "execution_count": null,
   "metadata": {},
   "outputs": [],
   "source": [
    "#21 Write a code that takes two tuples as input and returns a new tuple containing elements that are\n",
    "#common to both input tuples\n",
    "\n",
    "def getCommonTuple(t1, t2):\n",
    "    commonTuple = (item for item in t1 if item in t2)\n",
    "    return commonTuple\n",
    "\n",
    "tuple1 = (1,2,3,4,5,6,7)\n",
    "tuple2 = (5,6,7,8,9,10)\n",
    "\n",
    "print(getCommonTuple(tuple1, tuple2))\n"
   ]
  },
  {
   "cell_type": "code",
   "execution_count": 11,
   "metadata": {},
   "outputs": [
    {
     "name": "stdin",
     "output_type": "stream",
     "text": [
      "Enter 1st set values separated by comma 1,2,3,4,5\n",
      "Enter 2nd set values separated by comma 2,3,6,7,8\n"
     ]
    },
    {
     "name": "stdout",
     "output_type": "stream",
     "text": [
      "{2, 3}\n"
     ]
    }
   ],
   "source": [
    "#22 Create a code that prompts the user to enter two sets of integers separated by commas. Then, print the\n",
    "#intersection of these two sets\n",
    "input1 = input(\"Enter 1st set values separated by comma\")\n",
    "input2 = input(\"Enter 2nd set values separated by comma\")\n",
    "set1 = set(map(int,input1.split(',')))\n",
    "set2 = set(map(int,input2.split(',')))\n",
    "print(set1 & set2)"
   ]
  },
  {
   "cell_type": "code",
   "execution_count": 12,
   "metadata": {},
   "outputs": [
    {
     "name": "stdout",
     "output_type": "stream",
     "text": [
      "(1, 2, 3, 4, 5, 6, 7, 8, 9)\n"
     ]
    }
   ],
   "source": [
    "#23 Write a code to concatenate two tuples. The function should take two tuples as input and return a new\n",
    "# tuple containing elements from both input tuples.\n",
    "def concatinate_tuples(t1,t2):\n",
    "    return t1 + t2\n",
    "tuple1 = (1,2,3,4,5)\n",
    "tuple2 = (6,7,8,9)\n",
    "print(concatinate_tuples(tuple1, tuple2))"
   ]
  },
  {
   "cell_type": "code",
   "execution_count": 15,
   "metadata": {},
   "outputs": [
    {
     "name": "stdin",
     "output_type": "stream",
     "text": [
      "Enter 1st set with string values separated by comma 'a','c','f'\n",
      "Enter 2nd set with string values separated by comma 'w','c','a'\n"
     ]
    },
    {
     "name": "stdout",
     "output_type": "stream",
     "text": [
      "{\"'f'\"}\n"
     ]
    }
   ],
   "source": [
    "#24 Develop a code that prompts the user to input two sets of strings. Then, print the elements that are\n",
    "#present in the first set but not in the second set\n",
    "\n",
    "input1 = input(\"Enter 1st set with string values separated by comma\")\n",
    "input2 = input(\"Enter 2nd set with string values separated by comma\")\n",
    "set1 = set(map(str,input1.split(',')))\n",
    "set2 = set(map(str,input2.split(',')))\n",
    "print(set1 - set2)\n"
   ]
  },
  {
   "cell_type": "code",
   "execution_count": 18,
   "metadata": {},
   "outputs": [
    {
     "name": "stdin",
     "output_type": "stream",
     "text": [
      "Enter a tuple with comma separated values 1,2,3,4,5\n",
      "Enter integer as 1st indice 1\n",
      "Enter integer as 1st indice 3\n"
     ]
    },
    {
     "name": "stdout",
     "output_type": "stream",
     "text": [
      "(2, 3)\n"
     ]
    }
   ],
   "source": [
    "#25 Create a code that takes a tuple and two integers as input. The function should return a new tuple\n",
    "#containing elements from the original tuple within the specified range of indices\n",
    "\n",
    "input1 = input(\"Enter a tuple with comma separated values\")\n",
    "input2 = int(input(\"Enter integer as 1st indice\"))\n",
    "input3 = int(input(\"Enter integer as 1st indice\"))\n",
    "\n",
    "formatted_tuple = tuple(map(int,input1.split(',')))\n",
    "print(formatted_tuple[input2:input3])"
   ]
  },
  {
   "cell_type": "code",
   "execution_count": 19,
   "metadata": {},
   "outputs": [
    {
     "name": "stdin",
     "output_type": "stream",
     "text": [
      "Enter 1st set with character values separated by comma 'a','b','c'\n",
      "Enter 2nd set with character values separated by comma 'b','d','e'\n"
     ]
    },
    {
     "name": "stdout",
     "output_type": "stream",
     "text": [
      "{\"'a'\", \"'b'\", \"'e'\", \"'d'\", \"'c'\"}\n"
     ]
    }
   ],
   "source": [
    "#26 Write a code that prompts the user to input two sets of characters. Then, print the union of these two sets\n",
    "input1 = input(\"Enter 1st set with character values separated by comma\")\n",
    "input2 = input(\"Enter 2nd set with character values separated by comma\")\n",
    "set1 = set(map(str,input1.split(',')))\n",
    "set2 = set(map(str,input2.split(',')))\n",
    "print(set1.union(set2))"
   ]
  },
  {
   "cell_type": "code",
   "execution_count": 22,
   "metadata": {},
   "outputs": [
    {
     "name": "stdout",
     "output_type": "stream",
     "text": [
      "(10, 2)\n"
     ]
    }
   ],
   "source": [
    "#27 Develop a code that takes a tuple of integers as input. The function should return the maximum and\n",
    "# minimum values from the tuple using tuple unpacking\n",
    "def findMaxAndMin(t1):\n",
    "    max_value, min_value = max(t1), min(t1)\n",
    "    return max_value,min_value\n",
    "\n",
    "tuple1 = (3,4,10,7,8,9,2)\n",
    "print(findMaxAndMin(tuple1))"
   ]
  },
  {
   "cell_type": "code",
   "execution_count": 24,
   "metadata": {},
   "outputs": [
    {
     "name": "stdout",
     "output_type": "stream",
     "text": [
      "{1, 2, 3, 4, 5, 6, 7}\n",
      "{3, 4, 5}\n",
      "{1, 2}\n"
     ]
    }
   ],
   "source": [
    "#28 Create a code that defines two sets of integers. Then, print the union, intersection, and difference of these two sets\n",
    "set1 = {1,2,3,4,5}\n",
    "set2 = {3,4,5,6,7}\n",
    "print(set1.union(set2))\n",
    "print(set1 & set2)\n",
    "print(set1 - set2)\n"
   ]
  },
  {
   "cell_type": "code",
   "execution_count": 27,
   "metadata": {},
   "outputs": [
    {
     "name": "stdin",
     "output_type": "stream",
     "text": [
      "Enter a tuple with comma separated values a,a,a,b,b,c,c,d\n",
      "Give element to be searched in the above tuple a\n"
     ]
    },
    {
     "name": "stdout",
     "output_type": "stream",
     "text": [
      "count for the given element is 3\n"
     ]
    }
   ],
   "source": [
    "#29 Write a code that takes a tuple and an element as input. The function should return the count of occurrences of the given element in the tuple\n",
    "input1 = input(\"Enter a tuple with comma separated values\")\n",
    "element = input(\"Give element to be searched in the above tuple\")\n",
    "formatted_tuple = tuple(map(str,input1.split(',')))\n",
    "print(f\"count for the given element is {formatted_tuple.count(element)}\")"
   ]
  },
  {
   "cell_type": "code",
   "execution_count": 30,
   "metadata": {},
   "outputs": [
    {
     "name": "stdin",
     "output_type": "stream",
     "text": [
      "Enter 1st set with string values separated by comma aa,bb,cc,dd\n",
      "Enter 2nd set with string values separated by comma ss,cc,dd,ee\n"
     ]
    },
    {
     "name": "stdout",
     "output_type": "stream",
     "text": [
      "The symmetric difference in the two sets are {'ee', 'aa', 'bb', 'ss'} \n"
     ]
    }
   ],
   "source": [
    "#30 Develop a code that prompts the user to input two sets of strings. Then, print the symmetric difference of these two sets\n",
    "input1 = input(\"Enter 1st set with string values separated by comma\")\n",
    "input2 = input(\"Enter 2nd set with string values separated by comma\")\n",
    "set1 = set(map(str,input1.split(',')))\n",
    "set2 = set(map(str,input2.split(',')))\n",
    "diff_set1 = set1 - set2\n",
    "diff_set2 = set2 - set1\n",
    "symmetric_difference = diff_set1.union(diff_set2)\n",
    "print(f\"The symmetric difference in the two sets are {symmetric_difference} \")"
   ]
  },
  {
   "cell_type": "code",
   "execution_count": 37,
   "metadata": {},
   "outputs": [
    {
     "name": "stdin",
     "output_type": "stream",
     "text": [
      "Enter a sentence with repeating words My My Name is Rinku Rinku Singh\n"
     ]
    },
    {
     "name": "stdout",
     "output_type": "stream",
     "text": [
      "{'My': 2, 'Name': 1, 'is': 1, 'Rinku': 2, 'Singh': 1}\n"
     ]
    }
   ],
   "source": [
    "#31 Write a code that takes a list of words as input and returns a dictionary where the keys are unique words\n",
    "# and the values are the frequencies of those words in the input list\n",
    "\n",
    "inputList = input(\"Enter a sentence with repeating words\")\n",
    "lst = inputList.split()\n",
    "count = 1\n",
    "dict = {}\n",
    "for item in lst:\n",
    "  if(item in dict):\n",
    "    dict[item] +=1\n",
    "  else:\n",
    "    dict[item] = 1\n",
    "\n",
    "print(dict)\n"
   ]
  },
  {
   "cell_type": "code",
   "execution_count": 4,
   "metadata": {},
   "outputs": [
    {
     "name": "stdout",
     "output_type": "stream",
     "text": [
      "{'A': 1, 'B': 4, 'C': 3, 'D': 4, 'E': 3}\n"
     ]
    }
   ],
   "source": [
    "#32 Write a code that takes two dictionaries as input and merges them into a single dictionary. If there are\n",
    "#common keys, the values should be added together\n",
    "\n",
    "def checkForCommonAndAdd(dic1, dic2):\n",
    "    for key, value in dic2.items():\n",
    "        if key in dic1:\n",
    "            dic1[key] = dic1[key] + dic2[key]\n",
    "        else:\n",
    "            dic1[key] = dic2[key]\n",
    "    return dic1\n",
    "\n",
    "input_dic1 = {\"A\": 1, \"B\" : 2, \"C\": 3}\n",
    "input_dic2 = {\"B\": 2, \"D\": 4, \"E\": 3}\n",
    "print(checkForCommonAndAdd(input_dic1, input_dic2))"
   ]
  },
  {
   "cell_type": "code",
   "execution_count": 7,
   "metadata": {},
   "outputs": [
    {
     "name": "stdout",
     "output_type": "stream",
     "text": [
      "This is an Odd number List\n"
     ]
    }
   ],
   "source": [
    "#33 Write a code to access a value in a nested dictionary. The function should take the dictionary and a list of\n",
    "#keys as input, and return the corresponding value. If any of the keys do not exist in the dictionary, the\n",
    "#function should return None\n",
    "def checkForKeys(dic,lst):\n",
    "    if lst in dic:\n",
    "        return dic[lst]\n",
    "    else:\n",
    "        return \"NONE\"\n",
    "\n",
    "input_dic1 = {(1,3,5,7): \"This is an Odd number List\", (2,4,6,8) : \"This is an even number list\"}\n",
    "print(checkForKeys(input_dic1,(1,3,5,7)))\n",
    "    \n"
   ]
  },
  {
   "cell_type": "code",
   "execution_count": 9,
   "metadata": {},
   "outputs": [
    {
     "name": "stdout",
     "output_type": "stream",
     "text": [
      "{'D': 1, 'B': 2, 'A': 3, 'C': 12}\n"
     ]
    }
   ],
   "source": [
    "#34 Write a code that takes a dictionary as input and returns a sorted version of it based on the values. You\n",
    "#can choose whether to sort in ascending or descending order\n",
    "def sortDictOnValues(dict1):\n",
    "    sorted_dict = dict(sorted(dict1.items(), key=lambda item: item[1]))\n",
    "    return sorted_dict\n",
    "\n",
    "input_dict = {\"A\":3, \"B\": 2, \"C\": 12, \"D\": 1}\n",
    "print(sortDictOnValues(input_dict))\n"
   ]
  },
  {
   "cell_type": "code",
   "execution_count": 1,
   "metadata": {},
   "outputs": [
    {
     "name": "stdout",
     "output_type": "stream",
     "text": [
      "{'fire': ['a', 'c'], 'ice': ['b'], 'water': ['d']}\n"
     ]
    }
   ],
   "source": [
    "#35 Write a code that inverts a dictionary, swapping keys and values. Ensure that the inverted dictionary\n",
    "#correctly handles cases where multiple keys have the same value by storing the keys as a list in the\n",
    "#inverted dictionary.\n",
    "d = {'a': 'fire', 'b': 'ice', 'c': 'fire', 'd': 'water'}\n",
    "inverted_dict = {value:[i for i in d.keys() if d[i] == value ] for key,value in d.items()}\n",
    "print(inverted_dict)"
   ]
  },
  {
   "cell_type": "code",
   "execution_count": null,
   "metadata": {},
   "outputs": [],
   "source": []
  }
 ],
 "metadata": {
  "kernelspec": {
   "display_name": "Python 3 (ipykernel)",
   "language": "python",
   "name": "python3"
  },
  "language_info": {
   "codemirror_mode": {
    "name": "ipython",
    "version": 3
   },
   "file_extension": ".py",
   "mimetype": "text/x-python",
   "name": "python",
   "nbconvert_exporter": "python",
   "pygments_lexer": "ipython3",
   "version": "3.13.0"
  }
 },
 "nbformat": 4,
 "nbformat_minor": 4
}
